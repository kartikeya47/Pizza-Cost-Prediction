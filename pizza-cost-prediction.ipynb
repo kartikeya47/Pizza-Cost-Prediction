{
 "cells": [
  {
   "cell_type": "code",
   "execution_count": 1,
   "id": "5ce58d19",
   "metadata": {
    "_cell_guid": "b1076dfc-b9ad-4769-8c92-a6c4dae69d19",
    "_uuid": "8f2839f25d086af736a60e9eeb907d3b93b6e0e5",
    "execution": {
     "iopub.execute_input": "2021-09-08T04:48:06.623590Z",
     "iopub.status.busy": "2021-09-08T04:48:06.622822Z",
     "iopub.status.idle": "2021-09-08T04:48:06.634124Z",
     "shell.execute_reply": "2021-09-08T04:48:06.634845Z",
     "shell.execute_reply.started": "2021-09-08T04:36:18.84062Z"
    },
    "papermill": {
     "duration": 0.047131,
     "end_time": "2021-09-08T04:48:06.635262",
     "exception": false,
     "start_time": "2021-09-08T04:48:06.588131",
     "status": "completed"
    },
    "tags": []
   },
   "outputs": [
    {
     "name": "stdout",
     "output_type": "stream",
     "text": [
      "/kaggle/input/pizza-price-prediction/pizza_v2.csv\n",
      "/kaggle/input/pizza-price-prediction/pizza_v1.csv\n"
     ]
    }
   ],
   "source": [
    "# This Python 3 environment comes with many helpful analytics libraries installed\n",
    "# It is defined by the kaggle/python Docker image: https://github.com/kaggle/docker-python\n",
    "# For example, here's several helpful packages to load\n",
    "\n",
    "import numpy as np # linear algebra\n",
    "import pandas as pd # data processing, CSV file I/O (e.g. pd.read_csv)\n",
    "\n",
    "# Input data files are available in the read-only \"../input/\" directory\n",
    "# For example, running this (by clicking run or pressing Shift+Enter) will list all files under the input directory\n",
    "\n",
    "import os\n",
    "for dirname, _, filenames in os.walk('/kaggle/input'):\n",
    "    for filename in filenames:\n",
    "        print(os.path.join(dirname, filename))\n",
    "\n",
    "# You can write up to 20GB to the current directory (/kaggle/working/) that gets preserved as output when you create a version using \"Save & Run All\" \n",
    "# You can also write temporary files to /kaggle/temp/, but they won't be saved outside of the current session"
   ]
  },
  {
   "cell_type": "markdown",
   "id": "fa97f790",
   "metadata": {
    "papermill": {
     "duration": 0.02041,
     "end_time": "2021-09-08T04:48:06.677363",
     "exception": false,
     "start_time": "2021-09-08T04:48:06.656953",
     "status": "completed"
    },
    "tags": []
   },
   "source": [
    "![](https://www.incimages.com/uploaded_files/image/1920x1080/getty_835271096_410065.jpg)"
   ]
  },
  {
   "cell_type": "markdown",
   "id": "ff80856c",
   "metadata": {
    "papermill": {
     "duration": 0.020363,
     "end_time": "2021-09-08T04:48:06.718680",
     "exception": false,
     "start_time": "2021-09-08T04:48:06.698317",
     "status": "completed"
    },
    "tags": []
   },
   "source": [
    "# In this notebook, we will try to predcit Pizza Prices based on the features such as Company, Diameter, Toppings, Cheese Amount, Sauce Amount, etc."
   ]
  },
  {
   "cell_type": "markdown",
   "id": "07507543",
   "metadata": {
    "papermill": {
     "duration": 0.020345,
     "end_time": "2021-09-08T04:48:06.759478",
     "exception": false,
     "start_time": "2021-09-08T04:48:06.739133",
     "status": "completed"
    },
    "tags": []
   },
   "source": [
    "# Importing Required Libraries"
   ]
  },
  {
   "cell_type": "markdown",
   "id": "10760472",
   "metadata": {
    "papermill": {
     "duration": 0.020499,
     "end_time": "2021-09-08T04:48:06.801918",
     "exception": false,
     "start_time": "2021-09-08T04:48:06.781419",
     "status": "completed"
    },
    "tags": []
   },
   "source": []
  },
  {
   "cell_type": "code",
   "execution_count": 2,
   "id": "2ef7b745",
   "metadata": {
    "execution": {
     "iopub.execute_input": "2021-09-08T04:48:06.853130Z",
     "iopub.status.busy": "2021-09-08T04:48:06.852233Z",
     "iopub.status.idle": "2021-09-08T04:48:09.616057Z",
     "shell.execute_reply": "2021-09-08T04:48:09.615478Z",
     "shell.execute_reply.started": "2021-09-08T04:36:18.858413Z"
    },
    "papermill": {
     "duration": 2.793403,
     "end_time": "2021-09-08T04:48:09.616194",
     "exception": false,
     "start_time": "2021-09-08T04:48:06.822791",
     "status": "completed"
    },
    "tags": []
   },
   "outputs": [],
   "source": [
    "import numpy as np\n",
    "import pandas as pd \n",
    "import matplotlib.pyplot as plt\n",
    "import plotly.express as px\n",
    "import seaborn as sns\n",
    "%matplotlib inline\n",
    "from sklearn.preprocessing import LabelEncoder\n",
    "from sklearn.model_selection import train_test_split\n",
    "from sklearn.linear_model import LinearRegression\n",
    "from sklearn.ensemble import RandomForestRegressor\n",
    "import sklearn.metrics as metrics\n",
    "import os\n",
    "from sklearn.preprocessing import LabelEncoder\n",
    "from sklearn.model_selection import train_test_split,RandomizedSearchCV\n",
    "from sklearn.linear_model import LogisticRegression\n",
    "from sklearn.svm import SVC\n",
    "from sklearn.metrics import accuracy_score\n",
    "import seaborn as sns"
   ]
  },
  {
   "cell_type": "markdown",
   "id": "b7b4706e",
   "metadata": {
    "papermill": {
     "duration": 0.021059,
     "end_time": "2021-09-08T04:48:09.658811",
     "exception": false,
     "start_time": "2021-09-08T04:48:09.637752",
     "status": "completed"
    },
    "tags": []
   },
   "source": [
    "# Reading the CSV File"
   ]
  },
  {
   "cell_type": "code",
   "execution_count": 3,
   "id": "5d617c5f",
   "metadata": {
    "execution": {
     "iopub.execute_input": "2021-09-08T04:48:09.706364Z",
     "iopub.status.busy": "2021-09-08T04:48:09.705736Z",
     "iopub.status.idle": "2021-09-08T04:48:09.719829Z",
     "shell.execute_reply": "2021-09-08T04:48:09.719201Z",
     "shell.execute_reply.started": "2021-09-08T04:36:20.586936Z"
    },
    "papermill": {
     "duration": 0.040207,
     "end_time": "2021-09-08T04:48:09.719982",
     "exception": false,
     "start_time": "2021-09-08T04:48:09.679775",
     "status": "completed"
    },
    "tags": []
   },
   "outputs": [],
   "source": [
    "data = pd.read_csv('/kaggle/input/pizza-price-prediction/pizza_v2.csv')"
   ]
  },
  {
   "cell_type": "code",
   "execution_count": 4,
   "id": "f112a5ec",
   "metadata": {
    "execution": {
     "iopub.execute_input": "2021-09-08T04:48:09.773086Z",
     "iopub.status.busy": "2021-09-08T04:48:09.772233Z",
     "iopub.status.idle": "2021-09-08T04:48:09.794751Z",
     "shell.execute_reply": "2021-09-08T04:48:09.795412Z",
     "shell.execute_reply.started": "2021-09-08T04:36:20.605112Z"
    },
    "papermill": {
     "duration": 0.054751,
     "end_time": "2021-09-08T04:48:09.795601",
     "exception": false,
     "start_time": "2021-09-08T04:48:09.740850",
     "status": "completed"
    },
    "tags": []
   },
   "outputs": [
    {
     "data": {
      "text/html": [
       "<div>\n",
       "<style scoped>\n",
       "    .dataframe tbody tr th:only-of-type {\n",
       "        vertical-align: middle;\n",
       "    }\n",
       "\n",
       "    .dataframe tbody tr th {\n",
       "        vertical-align: top;\n",
       "    }\n",
       "\n",
       "    .dataframe thead th {\n",
       "        text-align: right;\n",
       "    }\n",
       "</style>\n",
       "<table border=\"1\" class=\"dataframe\">\n",
       "  <thead>\n",
       "    <tr style=\"text-align: right;\">\n",
       "      <th></th>\n",
       "      <th>company</th>\n",
       "      <th>price_rupiah</th>\n",
       "      <th>diameter</th>\n",
       "      <th>topping</th>\n",
       "      <th>variant</th>\n",
       "      <th>size</th>\n",
       "      <th>extra_sauce</th>\n",
       "      <th>extra_cheese</th>\n",
       "      <th>extra_mushrooms</th>\n",
       "    </tr>\n",
       "  </thead>\n",
       "  <tbody>\n",
       "    <tr>\n",
       "      <th>0</th>\n",
       "      <td>A</td>\n",
       "      <td>Rp235,000</td>\n",
       "      <td>22 inch</td>\n",
       "      <td>chicken</td>\n",
       "      <td>double_signature</td>\n",
       "      <td>jumbo</td>\n",
       "      <td>yes</td>\n",
       "      <td>yes</td>\n",
       "      <td>no</td>\n",
       "    </tr>\n",
       "    <tr>\n",
       "      <th>1</th>\n",
       "      <td>A</td>\n",
       "      <td>Rp198,000</td>\n",
       "      <td>20 inch</td>\n",
       "      <td>papperoni</td>\n",
       "      <td>double_signature</td>\n",
       "      <td>jumbo</td>\n",
       "      <td>yes</td>\n",
       "      <td>yes</td>\n",
       "      <td>no</td>\n",
       "    </tr>\n",
       "    <tr>\n",
       "      <th>2</th>\n",
       "      <td>A</td>\n",
       "      <td>Rp120,000</td>\n",
       "      <td>16 inch</td>\n",
       "      <td>mushrooms</td>\n",
       "      <td>double_signature</td>\n",
       "      <td>reguler</td>\n",
       "      <td>yes</td>\n",
       "      <td>yes</td>\n",
       "      <td>yes</td>\n",
       "    </tr>\n",
       "    <tr>\n",
       "      <th>3</th>\n",
       "      <td>A</td>\n",
       "      <td>Rp155,000</td>\n",
       "      <td>14 inch</td>\n",
       "      <td>smoked_beef</td>\n",
       "      <td>double_signature</td>\n",
       "      <td>reguler</td>\n",
       "      <td>yes</td>\n",
       "      <td>no</td>\n",
       "      <td>yes</td>\n",
       "    </tr>\n",
       "    <tr>\n",
       "      <th>4</th>\n",
       "      <td>A</td>\n",
       "      <td>Rp248,000</td>\n",
       "      <td>18 inch</td>\n",
       "      <td>mozzarella</td>\n",
       "      <td>double_signature</td>\n",
       "      <td>jumbo</td>\n",
       "      <td>yes</td>\n",
       "      <td>no</td>\n",
       "      <td>yes</td>\n",
       "    </tr>\n",
       "  </tbody>\n",
       "</table>\n",
       "</div>"
      ],
      "text/plain": [
       "  company price_rupiah diameter      topping           variant     size  \\\n",
       "0       A    Rp235,000  22 inch      chicken  double_signature    jumbo   \n",
       "1       A    Rp198,000  20 inch    papperoni  double_signature    jumbo   \n",
       "2       A    Rp120,000  16 inch    mushrooms  double_signature  reguler   \n",
       "3       A    Rp155,000  14 inch  smoked_beef  double_signature  reguler   \n",
       "4       A    Rp248,000  18 inch   mozzarella  double_signature    jumbo   \n",
       "\n",
       "  extra_sauce extra_cheese extra_mushrooms  \n",
       "0         yes          yes              no  \n",
       "1         yes          yes              no  \n",
       "2         yes          yes             yes  \n",
       "3         yes           no             yes  \n",
       "4         yes           no             yes  "
      ]
     },
     "execution_count": 4,
     "metadata": {},
     "output_type": "execute_result"
    }
   ],
   "source": [
    "data.head() #Displaying head of the data"
   ]
  },
  {
   "cell_type": "code",
   "execution_count": 5,
   "id": "36556105",
   "metadata": {
    "execution": {
     "iopub.execute_input": "2021-09-08T04:48:09.842679Z",
     "iopub.status.busy": "2021-09-08T04:48:09.842019Z",
     "iopub.status.idle": "2021-09-08T04:48:09.850540Z",
     "shell.execute_reply": "2021-09-08T04:48:09.851094Z",
     "shell.execute_reply.started": "2021-09-08T04:36:20.637406Z"
    },
    "papermill": {
     "duration": 0.033467,
     "end_time": "2021-09-08T04:48:09.851262",
     "exception": false,
     "start_time": "2021-09-08T04:48:09.817795",
     "status": "completed"
    },
    "tags": []
   },
   "outputs": [],
   "source": [
    "df = pd.read_csv('/kaggle/input/pizza-price-prediction/pizza_v2.csv')"
   ]
  },
  {
   "cell_type": "markdown",
   "id": "18c85f71",
   "metadata": {
    "papermill": {
     "duration": 0.020792,
     "end_time": "2021-09-08T04:48:09.894245",
     "exception": false,
     "start_time": "2021-09-08T04:48:09.873453",
     "status": "completed"
    },
    "tags": []
   },
   "source": [
    "# Visualizations"
   ]
  },
  {
   "cell_type": "code",
   "execution_count": 6,
   "id": "619b23c6",
   "metadata": {
    "execution": {
     "iopub.execute_input": "2021-09-08T04:48:09.939793Z",
     "iopub.status.busy": "2021-09-08T04:48:09.939093Z",
     "iopub.status.idle": "2021-09-08T04:48:10.693135Z",
     "shell.execute_reply": "2021-09-08T04:48:10.693809Z",
     "shell.execute_reply.started": "2021-09-08T04:36:20.646544Z"
    },
    "papermill": {
     "duration": 0.778667,
     "end_time": "2021-09-08T04:48:10.694013",
     "exception": false,
     "start_time": "2021-09-08T04:48:09.915346",
     "status": "completed"
    },
    "tags": []
   },
   "outputs": [
    {
     "data": {
      "text/plain": [
       "<BarContainer object of 129 artists>"
      ]
     },
     "execution_count": 6,
     "metadata": {},
     "output_type": "execute_result"
    },
    {
     "data": {
      "image/png": "[encoded data removed]",
      "text/plain": [
       "<Figure size 1440x720 with 1 Axes>"
      ]
     },
     "metadata": {
      "needs_background": "light"
     },
     "output_type": "display_data"
    }
   ],
   "source": [
    "plt.figure(figsize=(20,10)) #Companies Vs. Prices\n",
    "plt.bar(df.company,df.price_rupiah,color='red')"
   ]
  },
  {
   "cell_type": "code",
   "execution_count": 7,
   "id": "fcae5720",
   "metadata": {
    "execution": {
     "iopub.execute_input": "2021-09-08T04:48:10.744327Z",
     "iopub.status.busy": "2021-09-08T04:48:10.743299Z",
     "iopub.status.idle": "2021-09-08T04:48:11.584739Z",
     "shell.execute_reply": "2021-09-08T04:48:11.584137Z",
     "shell.execute_reply.started": "2021-09-08T04:36:21.272629Z"
    },
    "papermill": {
     "duration": 0.867255,
     "end_time": "2021-09-08T04:48:11.584882",
     "exception": false,
     "start_time": "2021-09-08T04:48:10.717627",
     "status": "completed"
    },
    "tags": []
   },
   "outputs": [
    {
     "data": {
      "text/plain": [
       "<BarContainer object of 129 artists>"
      ]
     },
     "execution_count": 7,
     "metadata": {},
     "output_type": "execute_result"
    },
    {
     "data": {
      "image/png": "[encoded data removed]",
      "text/plain": [
       "<Figure size 1440x720 with 1 Axes>"
      ]
     },
     "metadata": {
      "needs_background": "light"
     },
     "output_type": "display_data"
    }
   ],
   "source": [
    "plt.figure(figsize=(20,10)) #Toppings Vs. Prices\n",
    "plt.bar(df.topping,df.price_rupiah,color='blue')"
   ]
  },
  {
   "cell_type": "markdown",
   "id": "a56a66a0",
   "metadata": {
    "papermill": {
     "duration": 0.025739,
     "end_time": "2021-09-08T04:48:11.635848",
     "exception": false,
     "start_time": "2021-09-08T04:48:11.610109",
     "status": "completed"
    },
    "tags": []
   },
   "source": [
    "# Let's us check for NULL Values"
   ]
  },
  {
   "cell_type": "code",
   "execution_count": 8,
   "id": "ee2e5cea",
   "metadata": {
    "execution": {
     "iopub.execute_input": "2021-09-08T04:48:11.693886Z",
     "iopub.status.busy": "2021-09-08T04:48:11.693196Z",
     "iopub.status.idle": "2021-09-08T04:48:11.695876Z",
     "shell.execute_reply": "2021-09-08T04:48:11.696455Z",
     "shell.execute_reply.started": "2021-09-08T04:36:22.026805Z"
    },
    "papermill": {
     "duration": 0.035736,
     "end_time": "2021-09-08T04:48:11.696641",
     "exception": false,
     "start_time": "2021-09-08T04:48:11.660905",
     "status": "completed"
    },
    "tags": []
   },
   "outputs": [
    {
     "data": {
      "text/plain": [
       "company            0\n",
       "price_rupiah       0\n",
       "diameter           0\n",
       "topping            0\n",
       "variant            0\n",
       "size               0\n",
       "extra_sauce        0\n",
       "extra_cheese       0\n",
       "extra_mushrooms    0\n",
       "dtype: int64"
      ]
     },
     "execution_count": 8,
     "metadata": {},
     "output_type": "execute_result"
    }
   ],
   "source": [
    "data.isnull().sum() #No Null values are there"
   ]
  },
  {
   "cell_type": "code",
   "execution_count": 9,
   "id": "d3a7229b",
   "metadata": {
    "execution": {
     "iopub.execute_input": "2021-09-08T04:48:11.750846Z",
     "iopub.status.busy": "2021-09-08T04:48:11.750154Z",
     "iopub.status.idle": "2021-09-08T04:48:11.799159Z",
     "shell.execute_reply": "2021-09-08T04:48:11.799674Z",
     "shell.execute_reply.started": "2021-09-08T04:36:22.035275Z"
    },
    "papermill": {
     "duration": 0.077944,
     "end_time": "2021-09-08T04:48:11.799846",
     "exception": false,
     "start_time": "2021-09-08T04:48:11.721902",
     "status": "completed"
    },
    "tags": []
   },
   "outputs": [
    {
     "data": {
      "text/html": [
       "<div>\n",
       "<style scoped>\n",
       "    .dataframe tbody tr th:only-of-type {\n",
       "        vertical-align: middle;\n",
       "    }\n",
       "\n",
       "    .dataframe tbody tr th {\n",
       "        vertical-align: top;\n",
       "    }\n",
       "\n",
       "    .dataframe thead th {\n",
       "        text-align: right;\n",
       "    }\n",
       "</style>\n",
       "<table border=\"1\" class=\"dataframe\">\n",
       "  <thead>\n",
       "    <tr style=\"text-align: right;\">\n",
       "      <th></th>\n",
       "      <th>company</th>\n",
       "      <th>price_rupiah</th>\n",
       "      <th>diameter</th>\n",
       "      <th>topping</th>\n",
       "      <th>variant</th>\n",
       "      <th>size</th>\n",
       "      <th>extra_sauce</th>\n",
       "      <th>extra_cheese</th>\n",
       "      <th>extra_mushrooms</th>\n",
       "    </tr>\n",
       "  </thead>\n",
       "  <tbody>\n",
       "    <tr>\n",
       "      <th>count</th>\n",
       "      <td>129</td>\n",
       "      <td>129</td>\n",
       "      <td>129</td>\n",
       "      <td>129</td>\n",
       "      <td>129</td>\n",
       "      <td>129</td>\n",
       "      <td>129</td>\n",
       "      <td>129</td>\n",
       "      <td>129</td>\n",
       "    </tr>\n",
       "    <tr>\n",
       "      <th>unique</th>\n",
       "      <td>5</td>\n",
       "      <td>43</td>\n",
       "      <td>12</td>\n",
       "      <td>12</td>\n",
       "      <td>20</td>\n",
       "      <td>6</td>\n",
       "      <td>2</td>\n",
       "      <td>2</td>\n",
       "      <td>2</td>\n",
       "    </tr>\n",
       "    <tr>\n",
       "      <th>top</th>\n",
       "      <td>E</td>\n",
       "      <td>Rp72,000</td>\n",
       "      <td>12 inch</td>\n",
       "      <td>chicken</td>\n",
       "      <td>classic</td>\n",
       "      <td>medium</td>\n",
       "      <td>yes</td>\n",
       "      <td>yes</td>\n",
       "      <td>yes</td>\n",
       "    </tr>\n",
       "    <tr>\n",
       "      <th>freq</th>\n",
       "      <td>30</td>\n",
       "      <td>11</td>\n",
       "      <td>49</td>\n",
       "      <td>29</td>\n",
       "      <td>30</td>\n",
       "      <td>41</td>\n",
       "      <td>76</td>\n",
       "      <td>86</td>\n",
       "      <td>72</td>\n",
       "    </tr>\n",
       "  </tbody>\n",
       "</table>\n",
       "</div>"
      ],
      "text/plain": [
       "       company price_rupiah diameter  topping  variant    size extra_sauce  \\\n",
       "count      129          129      129      129      129     129         129   \n",
       "unique       5           43       12       12       20       6           2   \n",
       "top          E     Rp72,000  12 inch  chicken  classic  medium         yes   \n",
       "freq        30           11       49       29       30      41          76   \n",
       "\n",
       "       extra_cheese extra_mushrooms  \n",
       "count           129             129  \n",
       "unique            2               2  \n",
       "top             yes             yes  \n",
       "freq             86              72  "
      ]
     },
     "execution_count": 9,
     "metadata": {},
     "output_type": "execute_result"
    }
   ],
   "source": [
    "data.describe() #Basic Info about the data"
   ]
  },
  {
   "cell_type": "code",
   "execution_count": 10,
   "id": "53dac545",
   "metadata": {
    "execution": {
     "iopub.execute_input": "2021-09-08T04:48:11.855012Z",
     "iopub.status.busy": "2021-09-08T04:48:11.854339Z",
     "iopub.status.idle": "2021-09-08T04:48:11.861986Z",
     "shell.execute_reply": "2021-09-08T04:48:11.862535Z",
     "shell.execute_reply.started": "2021-09-08T04:36:22.090075Z"
    },
    "papermill": {
     "duration": 0.036593,
     "end_time": "2021-09-08T04:48:11.862721",
     "exception": false,
     "start_time": "2021-09-08T04:48:11.826128",
     "status": "completed"
    },
    "tags": []
   },
   "outputs": [],
   "source": [
    "data['price_rupiah'] = data['price_rupiah'].apply(lambda x : x.replace(\"Rp\",\"\").replace(\",\",\"\"))\n",
    "# remove rp and comma and store it in new price column\n",
    "data['diameter'] = data['diameter'].apply(lambda x : x.replace(\" inch\",\"\"))\n",
    "#remove inch and store it in new column\n",
    "data[\"diameter\"] = data[\"diameter\"].astype(float)\n",
    "data[\"price_rupiah\"] = data[\"price_rupiah\"].astype(float)"
   ]
  },
  {
   "cell_type": "markdown",
   "id": "0f54571d",
   "metadata": {
    "papermill": {
     "duration": 0.025823,
     "end_time": "2021-09-08T04:48:11.914829",
     "exception": false,
     "start_time": "2021-09-08T04:48:11.889006",
     "status": "completed"
    },
    "tags": []
   },
   "source": [
    "# Now, Let's Encode the Data"
   ]
  },
  {
   "cell_type": "code",
   "execution_count": 11,
   "id": "5ef3dcd2",
   "metadata": {
    "execution": {
     "iopub.execute_input": "2021-09-08T04:48:11.970285Z",
     "iopub.status.busy": "2021-09-08T04:48:11.969639Z",
     "iopub.status.idle": "2021-09-08T04:48:11.978538Z",
     "shell.execute_reply": "2021-09-08T04:48:11.977839Z",
     "shell.execute_reply.started": "2021-09-08T04:37:02.886635Z"
    },
    "papermill": {
     "duration": 0.03773,
     "end_time": "2021-09-08T04:48:11.978700",
     "exception": false,
     "start_time": "2021-09-08T04:48:11.940970",
     "status": "completed"
    },
    "tags": []
   },
   "outputs": [],
   "source": [
    "en = LabelEncoder()\n",
    "catCols = ['company','topping','variant','size','extra_sauce','extra_cheese','extra_mushrooms']\n",
    "for cols in catCols:\n",
    "    data[cols] = en.fit_transform(data[cols])"
   ]
  },
  {
   "cell_type": "code",
   "execution_count": 12,
   "id": "0aa4cfdb",
   "metadata": {
    "execution": {
     "iopub.execute_input": "2021-09-08T04:48:12.034552Z",
     "iopub.status.busy": "2021-09-08T04:48:12.033801Z",
     "iopub.status.idle": "2021-09-08T04:48:12.048161Z",
     "shell.execute_reply": "2021-09-08T04:48:12.048656Z",
     "shell.execute_reply.started": "2021-09-08T04:36:22.116129Z"
    },
    "papermill": {
     "duration": 0.04398,
     "end_time": "2021-09-08T04:48:12.048840",
     "exception": false,
     "start_time": "2021-09-08T04:48:12.004860",
     "status": "completed"
    },
    "tags": []
   },
   "outputs": [
    {
     "data": {
      "text/html": [
       "<div>\n",
       "<style scoped>\n",
       "    .dataframe tbody tr th:only-of-type {\n",
       "        vertical-align: middle;\n",
       "    }\n",
       "\n",
       "    .dataframe tbody tr th {\n",
       "        vertical-align: top;\n",
       "    }\n",
       "\n",
       "    .dataframe thead th {\n",
       "        text-align: right;\n",
       "    }\n",
       "</style>\n",
       "<table border=\"1\" class=\"dataframe\">\n",
       "  <thead>\n",
       "    <tr style=\"text-align: right;\">\n",
       "      <th></th>\n",
       "      <th>company</th>\n",
       "      <th>price_rupiah</th>\n",
       "      <th>diameter</th>\n",
       "      <th>topping</th>\n",
       "      <th>variant</th>\n",
       "      <th>size</th>\n",
       "      <th>extra_sauce</th>\n",
       "      <th>extra_cheese</th>\n",
       "      <th>extra_mushrooms</th>\n",
       "    </tr>\n",
       "  </thead>\n",
       "  <tbody>\n",
       "    <tr>\n",
       "      <th>0</th>\n",
       "      <td>0</td>\n",
       "      <td>235000.0</td>\n",
       "      <td>22.0</td>\n",
       "      <td>2</td>\n",
       "      <td>8</td>\n",
       "      <td>1</td>\n",
       "      <td>1</td>\n",
       "      <td>1</td>\n",
       "      <td>0</td>\n",
       "    </tr>\n",
       "    <tr>\n",
       "      <th>1</th>\n",
       "      <td>0</td>\n",
       "      <td>198000.0</td>\n",
       "      <td>20.0</td>\n",
       "      <td>7</td>\n",
       "      <td>8</td>\n",
       "      <td>1</td>\n",
       "      <td>1</td>\n",
       "      <td>1</td>\n",
       "      <td>0</td>\n",
       "    </tr>\n",
       "    <tr>\n",
       "      <th>2</th>\n",
       "      <td>0</td>\n",
       "      <td>120000.0</td>\n",
       "      <td>16.0</td>\n",
       "      <td>5</td>\n",
       "      <td>8</td>\n",
       "      <td>4</td>\n",
       "      <td>1</td>\n",
       "      <td>1</td>\n",
       "      <td>1</td>\n",
       "    </tr>\n",
       "    <tr>\n",
       "      <th>3</th>\n",
       "      <td>0</td>\n",
       "      <td>155000.0</td>\n",
       "      <td>14.0</td>\n",
       "      <td>9</td>\n",
       "      <td>8</td>\n",
       "      <td>4</td>\n",
       "      <td>1</td>\n",
       "      <td>0</td>\n",
       "      <td>1</td>\n",
       "    </tr>\n",
       "    <tr>\n",
       "      <th>4</th>\n",
       "      <td>0</td>\n",
       "      <td>248000.0</td>\n",
       "      <td>18.0</td>\n",
       "      <td>4</td>\n",
       "      <td>8</td>\n",
       "      <td>1</td>\n",
       "      <td>1</td>\n",
       "      <td>0</td>\n",
       "      <td>1</td>\n",
       "    </tr>\n",
       "  </tbody>\n",
       "</table>\n",
       "</div>"
      ],
      "text/plain": [
       "   company  price_rupiah  diameter  topping  variant  size  extra_sauce  \\\n",
       "0        0      235000.0      22.0        2        8     1            1   \n",
       "1        0      198000.0      20.0        7        8     1            1   \n",
       "2        0      120000.0      16.0        5        8     4            1   \n",
       "3        0      155000.0      14.0        9        8     4            1   \n",
       "4        0      248000.0      18.0        4        8     1            1   \n",
       "\n",
       "   extra_cheese  extra_mushrooms  \n",
       "0             1                0  \n",
       "1             1                0  \n",
       "2             1                1  \n",
       "3             0                1  \n",
       "4             0                1  "
      ]
     },
     "execution_count": 12,
     "metadata": {},
     "output_type": "execute_result"
    }
   ],
   "source": [
    "data.head() #Displaying head of the data"
   ]
  },
  {
   "cell_type": "markdown",
   "id": "30767aff",
   "metadata": {
    "papermill": {
     "duration": 0.026546,
     "end_time": "2021-09-08T04:48:12.102178",
     "exception": false,
     "start_time": "2021-09-08T04:48:12.075632",
     "status": "completed"
    },
    "tags": []
   },
   "source": [
    "# SPLITTING THE DATASET INTO TRAIN AND TEST DATA"
   ]
  },
  {
   "cell_type": "code",
   "execution_count": 13,
   "id": "39260df9",
   "metadata": {
    "execution": {
     "iopub.execute_input": "2021-09-08T04:48:12.159781Z",
     "iopub.status.busy": "2021-09-08T04:48:12.159120Z",
     "iopub.status.idle": "2021-09-08T04:48:12.164859Z",
     "shell.execute_reply": "2021-09-08T04:48:12.165382Z",
     "shell.execute_reply.started": "2021-09-08T04:37:06.715562Z"
    },
    "papermill": {
     "duration": 0.036415,
     "end_time": "2021-09-08T04:48:12.165582",
     "exception": false,
     "start_time": "2021-09-08T04:48:12.129167",
     "status": "completed"
    },
    "tags": []
   },
   "outputs": [],
   "source": [
    "Y = data[\"price_rupiah\"]\n",
    "X = data.drop(\"price_rupiah\",axis = 1)"
   ]
  },
  {
   "cell_type": "code",
   "execution_count": 14,
   "id": "aa5bf78d",
   "metadata": {
    "execution": {
     "iopub.execute_input": "2021-09-08T04:48:12.222487Z",
     "iopub.status.busy": "2021-09-08T04:48:12.221806Z",
     "iopub.status.idle": "2021-09-08T04:48:12.226607Z",
     "shell.execute_reply": "2021-09-08T04:48:12.227177Z",
     "shell.execute_reply.started": "2021-09-08T04:37:08.565887Z"
    },
    "papermill": {
     "duration": 0.035246,
     "end_time": "2021-09-08T04:48:12.227360",
     "exception": false,
     "start_time": "2021-09-08T04:48:12.192114",
     "status": "completed"
    },
    "tags": []
   },
   "outputs": [],
   "source": [
    "y=pd.DataFrame(Y)"
   ]
  },
  {
   "cell_type": "code",
   "execution_count": 15,
   "id": "609db3ea",
   "metadata": {
    "execution": {
     "iopub.execute_input": "2021-09-08T04:48:12.289947Z",
     "iopub.status.busy": "2021-09-08T04:48:12.288965Z",
     "iopub.status.idle": "2021-09-08T04:48:12.292017Z",
     "shell.execute_reply": "2021-09-08T04:48:12.291444Z",
     "shell.execute_reply.started": "2021-09-08T04:37:30.610656Z"
    },
    "papermill": {
     "duration": 0.038029,
     "end_time": "2021-09-08T04:48:12.292154",
     "exception": false,
     "start_time": "2021-09-08T04:48:12.254125",
     "status": "completed"
    },
    "tags": []
   },
   "outputs": [],
   "source": [
    "# Splitting the dataset into train and test datasets\n",
    "# 80% Train Data + 20% Test Data\n",
    "\n",
    "from sklearn.model_selection import train_test_split\n",
    "X_train, X_test, y_train, y_test = train_test_split(X, y, train_size=0.8, test_size=0.2)"
   ]
  },
  {
   "cell_type": "markdown",
   "id": "a4c4d76d",
   "metadata": {
    "papermill": {
     "duration": 0.027258,
     "end_time": "2021-09-08T04:48:12.345994",
     "exception": false,
     "start_time": "2021-09-08T04:48:12.318736",
     "status": "completed"
    },
    "tags": []
   },
   "source": [
    "# Using XGBoost"
   ]
  },
  {
   "cell_type": "code",
   "execution_count": 16,
   "id": "e54af7b5",
   "metadata": {
    "execution": {
     "iopub.execute_input": "2021-09-08T04:48:12.405390Z",
     "iopub.status.busy": "2021-09-08T04:48:12.404752Z",
     "iopub.status.idle": "2021-09-08T04:48:13.024548Z",
     "shell.execute_reply": "2021-09-08T04:48:13.025439Z",
     "shell.execute_reply.started": "2021-09-08T04:37:33.535455Z"
    },
    "papermill": {
     "duration": 0.653288,
     "end_time": "2021-09-08T04:48:13.025706",
     "exception": false,
     "start_time": "2021-09-08T04:48:12.372418",
     "status": "completed"
    },
    "tags": []
   },
   "outputs": [
    {
     "name": "stdout",
     "output_type": "stream",
     "text": [
      "Mean Absolute Error: 5764.620192307692\n",
      "R2 score : 0.9752894278317424\n"
     ]
    }
   ],
   "source": [
    "from xgboost import XGBRegressor\n",
    "from sklearn.metrics import mean_absolute_error\n",
    "# Define the model\n",
    "model = XGBRegressor(n_estimators=1000, learning_rate=0.09) \n",
    "\n",
    "# Fit the model\n",
    "model.fit(X_train, y_train) \n",
    "\n",
    "# Get predictions\n",
    "predictions = model.predict(X_test) \n",
    "\n",
    "# Calculate MAE\n",
    "mae = mean_absolute_error(predictions, y_test)\n",
    "print(\"Mean Absolute Error:\" , mae)\n",
    "\n",
    "#Calculating R2\n",
    "r2 =  metrics.r2_score(y_test, predictions)\n",
    "print(\"R2 score :\", r2)"
   ]
  },
  {
   "cell_type": "markdown",
   "id": "96bcbf18",
   "metadata": {
    "papermill": {
     "duration": 0.026248,
     "end_time": "2021-09-08T04:48:13.080957",
     "exception": false,
     "start_time": "2021-09-08T04:48:13.054709",
     "status": "completed"
    },
    "tags": []
   },
   "source": [
    "**We can see that our model has performed really well on the Test Dataset with a R2 Score >95%.**"
   ]
  },
  {
   "cell_type": "markdown",
   "id": "fe6ff86e",
   "metadata": {
    "papermill": {
     "duration": 0.026457,
     "end_time": "2021-09-08T04:48:13.134452",
     "exception": false,
     "start_time": "2021-09-08T04:48:13.107995",
     "status": "completed"
    },
    "tags": []
   },
   "source": []
  },
  {
   "cell_type": "markdown",
   "id": "cdb8314d",
   "metadata": {
    "papermill": {
     "duration": 0.026341,
     "end_time": "2021-09-08T04:48:13.187679",
     "exception": false,
     "start_time": "2021-09-08T04:48:13.161338",
     "status": "completed"
    },
    "tags": []
   },
   "source": []
  },
  {
   "cell_type": "markdown",
   "id": "64a852be",
   "metadata": {
    "papermill": {
     "duration": 0.027396,
     "end_time": "2021-09-08T04:48:13.241848",
     "exception": false,
     "start_time": "2021-09-08T04:48:13.214452",
     "status": "completed"
    },
    "tags": []
   },
   "source": []
  }
 ],
 "metadata": {
  "kernelspec": {
   "display_name": "Python 3",
   "language": "python",
   "name": "python3"
  },
  "language_info": {
   "codemirror_mode": {
    "name": "ipython",
    "version": 3
   },
   "file_extension": ".py",
   "mimetype": "text/x-python",
   "name": "python",
   "nbconvert_exporter": "python",
   "pygments_lexer": "ipython3",
   "version": "3.7.10"
  },
  "papermill": {
   "default_parameters": {},
   "duration": 15.603149,
   "end_time": "2021-09-08T04:48:14.180791",
   "environment_variables": {},
   "exception": null,
   "input_path": "__notebook__.ipynb",
   "output_path": "__notebook__.ipynb",
   "parameters": {},
   "start_time": "2021-09-08T04:47:58.577642",
   "version": "2.3.3"
  }
 },
 "nbformat": 4,
 "nbformat_minor": 5
}
